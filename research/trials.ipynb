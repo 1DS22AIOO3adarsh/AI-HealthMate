{
 "cells": [
  {
   "cell_type": "code",
   "execution_count": 1,
   "metadata": {},
   "outputs": [
    {
     "name": "stdout",
     "output_type": "stream",
     "text": [
      "hello world!\n"
     ]
    }
   ],
   "source": [
    "print('hello world!')"
   ]
  },
  {
   "cell_type": "code",
   "execution_count": 4,
   "metadata": {},
   "outputs": [
    {
     "data": {
      "text/plain": [
       "'c:\\\\Users\\\\adars\\\\Desktop\\\\AI-PROJECTS'"
      ]
     },
     "execution_count": 4,
     "metadata": {},
     "output_type": "execute_result"
    }
   ],
   "source": [
    "%pwd"
   ]
  },
  {
   "cell_type": "code",
   "execution_count": 3,
   "metadata": {},
   "outputs": [],
   "source": [
    "import os\n",
    "os.chdir('../')"
   ]
  },
  {
   "cell_type": "code",
   "execution_count": 5,
   "metadata": {},
   "outputs": [],
   "source": [
    "from langchain.document_loaders import PyPDFLoader,DirectoryLoader\n",
    "from langchain.text_splitter import RecursiveCharacterTextSplitter"
   ]
  },
  {
   "cell_type": "code",
   "execution_count": 6,
   "metadata": {},
   "outputs": [],
   "source": [
    "def load_pdf_file(data):\n",
    "    loader = DirectoryLoader(\n",
    "        data,\n",
    "        glob=\"*.pdf\",\n",
    "        loader_cls=PyPDFLoader\n",
    "    )\n",
    "\n",
    "    documents = loader.load()\n",
    "\n",
    "    return documents"
   ]
  },
  {
   "cell_type": "code",
   "execution_count": 7,
   "metadata": {},
   "outputs": [],
   "source": [
    "extracted_data = load_pdf_file(data='Data/')"
   ]
  },
  {
   "cell_type": "code",
   "execution_count": 8,
   "metadata": {},
   "outputs": [],
   "source": [
    "def text_split(extracted_data):\n",
    "    text_splitter = RecursiveCharacterTextSplitter(chunk_size=500,chunk_overlap=20)\n",
    "    text_chunks = text_splitter.split_documents(extracted_data)\n",
    "\n",
    "    return text_chunks"
   ]
  },
  {
   "cell_type": "code",
   "execution_count": 9,
   "metadata": {},
   "outputs": [
    {
     "name": "stdout",
     "output_type": "stream",
     "text": [
      "Length:  5860\n"
     ]
    }
   ],
   "source": [
    "text_chunks = text_split(extracted_data)\n",
    "print('Length: ',len(text_chunks))"
   ]
  },
  {
   "cell_type": "code",
   "execution_count": 10,
   "metadata": {},
   "outputs": [],
   "source": [
    "from langchain.embeddings import HuggingFaceBgeEmbeddings"
   ]
  },
  {
   "cell_type": "code",
   "execution_count": 11,
   "metadata": {},
   "outputs": [],
   "source": [
    "def download_hugging_face_embeddings():\n",
    "    from langchain_community.embeddings import HuggingFaceBgeEmbeddings\n",
    "    embeddings = HuggingFaceBgeEmbeddings(model_name=\"sentence-transformers/all-MiniLM-L6-v2\")\n",
    "    return embeddings\n"
   ]
  },
  {
   "cell_type": "code",
   "execution_count": 12,
   "metadata": {},
   "outputs": [
    {
     "name": "stderr",
     "output_type": "stream",
     "text": [
      "C:\\Users\\adars\\AppData\\Local\\Temp\\ipykernel_2780\\1036191651.py:3: LangChainDeprecationWarning: The class `HuggingFaceBgeEmbeddings` was deprecated in LangChain 0.2.2 and will be removed in 1.0. An updated version of the class exists in the :class:`~langchain-huggingface package and should be used instead. To use it run `pip install -U :class:`~langchain-huggingface` and import as `from :class:`~langchain_huggingface import HuggingFaceEmbeddings``.\n",
      "  embeddings = HuggingFaceBgeEmbeddings(model_name=\"sentence-transformers/all-MiniLM-L6-v2\")\n",
      "c:\\Users\\adars\\Desktop\\AI-PROJECTS\\medibot\\lib\\site-packages\\tqdm\\auto.py:21: TqdmWarning: IProgress not found. Please update jupyter and ipywidgets. See https://ipywidgets.readthedocs.io/en/stable/user_install.html\n",
      "  from .autonotebook import tqdm as notebook_tqdm\n"
     ]
    }
   ],
   "source": [
    "embeddings = download_hugging_face_embeddings()"
   ]
  },
  {
   "cell_type": "code",
   "execution_count": 29,
   "metadata": {},
   "outputs": [
    {
     "name": "stdout",
     "output_type": "stream",
     "text": [
      "[0.004552410915493965, 0.17278990149497986, 0.03477634862065315, 0.005749511066824198, -0.026328887790441513, -0.04085709527134895, 0.022657936438918114, -0.0446588434278965, -0.01880376785993576, 0.008832592517137527, 0.04025248810648918, -0.034709054976701736, 0.015151108615100384, -0.014657366089522839, 0.07468860596418381, -0.04393266141414642, -0.0560385063290596, 0.020306624472141266, -0.05812908709049225, -0.04611075296998024, 0.08254793286323547, 0.10951972752809525, 0.014446125365793705, 0.025379378348588943, -0.08089374750852585, 0.015043933875858784, -0.003515304997563362, 0.013029933907091618, 0.09713464230298996, -0.061469607055187225, -0.027697697281837463, 0.0014512314228340983, 0.08353219926357269, 0.01702171005308628, -0.010031123645603657, 0.08817803859710693, 0.05356213450431824, -0.039075564593076706, 0.028452113270759583, -0.05871639400720596, 0.024071136489510536, -0.03864147886633873, -0.04744643718004227, 0.0030063141603022814, -0.0009589865221641958, -0.025471258908510208, -0.09244746714830399, 0.058361344039440155, 0.03978348895907402, -0.010074343532323837, -0.15832996368408203, -0.029143977910280228, -0.0422632172703743, -0.015313906595110893, 0.03048679232597351, -0.01583108864724636, -0.056832585483789444, -0.018646422773599625, 0.0285990908741951, -0.007004222832620144, -0.04968193918466568, 0.04801443964242935, -0.025477390736341476, 0.07540684938430786, 0.05992164835333824, -0.11676403135061264, 0.04171093553304672, 0.022335942834615707, -0.08330412954092026, -0.03607913851737976, -0.08870657533407211, -0.011484755203127861, -0.025705602020025253, -0.01579420268535614, -0.13510490953922272, -0.0459783673286438, -0.021482953801751137, -0.04448263347148895, -0.009349901229143143, -0.0018272906308993697, 0.06751014292240143, 0.01410915981978178, 0.01653175987303257, 0.062303297221660614, 0.008359833620488644, 0.015217245556414127, -3.772533091250807e-05, -0.06270627677440643, 0.037467703223228455, -0.014134708791971207, -0.098623126745224, -0.10270506143569946, 0.03429069742560387, 0.03468351811170578, -0.04601515829563141, 0.03379267081618309, 0.04493878781795502, 0.029643729329109192, -0.018838318064808846, 0.11069753766059875, 0.07106082886457443, 0.0340588204562664, 0.10420345515012741, 0.03187757730484009, -0.020961249247193336, 0.016912376508116722, -0.09639368206262589, 0.078321672976017, 0.011262922547757626, -0.046861421316862106, -0.0770026296377182, -0.06822556257247925, -0.01647905260324478, -0.10532309114933014, 0.045781344175338745, -0.06155145913362503, 0.015970293432474136, 0.0009829241316765547, -0.031051846221089363, 0.06259901821613312, -0.022351402789354324, -0.004833458922803402, -0.007406672928482294, 0.03237899765372276, -0.018852664157748222, -0.0035424581728875637, -0.028702016919851303, -2.880303338573289e-33, 0.07627971470355988, 0.011193152517080307, 0.03263835981488228, 0.11858107149600983, -0.04796947166323662, -0.00017489872698206455, -0.0619359090924263, 0.04824453219771385, 0.015376673080027103, -0.0004849784018006176, 0.00900746788829565, 0.01256292313337326, -0.016215581446886063, 0.03220289573073387, -0.04731396958231926, -0.0004832158447243273, -0.08128360658884048, -0.006080690771341324, -0.05542788282036781, 0.07031562924385071, -0.022631339728832245, -0.006551817059516907, 0.01367867086082697, 0.056695710867643356, 0.049071501940488815, 0.013696800917387009, 0.020946992561221123, -0.0796104222536087, 0.024290425702929497, 0.03144066780805588, 0.04036913812160492, -0.05497899651527405, -0.02783399634063244, -0.02838425524532795, 0.047692570835351944, 0.07186498492956161, -0.04594697803258896, -0.08510410040616989, -0.07545587420463562, -0.046876080334186554, -0.025502556934952736, 0.03815421834588051, 0.06830732524394989, -0.0018402023706585169, -0.007344386540353298, 0.018273290246725082, -0.042522165924310684, 0.001203368417918682, 0.020883385092020035, 0.06457797437906265, -0.043257392942905426, 0.07307330518960953, -0.06671394407749176, -0.007589833810925484, 0.03444259613752365, 0.05078364163637161, -0.021319737657904625, 0.05480944737792015, -0.05035806819796562, 0.06005043908953667, -0.03513408079743385, 0.01584998331964016, 0.05450326204299927, 0.01932564191520214, -0.024449490010738373, -0.031784236431121826, -0.019888540729880333, -0.013287276029586792, 0.034530289471149445, 0.009916190057992935, -0.017837142571806908, 0.0072439853101968765, -0.015043966472148895, 0.07124587893486023, -0.03504602238535881, 0.0022827363573014736, 0.010017232969403267, -0.053022854030132294, 0.005792371928691864, -0.06864675879478455, -0.00705926027148962, 0.013289544731378555, 0.030604500323534012, 0.03372596576809883, 0.08164668828248978, -0.06405901163816452, 0.03292176499962807, -0.11352770030498505, 0.008560852147638798, 0.024082345888018608, -0.017124168574810028, 0.06633567810058594, 0.0030531971715390682, -0.09561274200677872, -0.07655864953994751, 1.5760589741331076e-34, 0.09595806151628494, 0.021806970238685608, -0.059028834104537964, -0.013089776039123535, -0.04630456492304802, -0.006820060778409243, -0.03268380090594292, 0.0904732197523117, -6.215544271981344e-05, 0.06505373865365982, -0.03312643989920616, 0.020783431828022003, 0.1404171735048294, -0.019450893625617027, -0.08520375192165375, -0.043248895555734634, 0.11308969557285309, 0.017316648736596107, 0.02813921496272087, 0.059865936636924744, -0.0017199472058564425, -0.016637878492474556, -0.10962355136871338, -0.00850200466811657, 0.006379858125001192, 0.0673513188958168, 0.09948479384183884, -0.035062920302152634, -0.07012461125850677, 0.006567524746060371, -0.0024905039463192225, 0.02239362709224224, -0.10517345368862152, 0.032469894737005234, -0.025093406438827515, -0.010573137551546097, -0.010109128430485725, 0.012690630741417408, -0.006102186627686024, -0.051748067140579224, -0.0031161713413894176, 0.03177553042769432, 0.04014012962579727, 0.08033379912376404, -0.09289473295211792, 0.010551610961556435, -0.023708045482635498, 0.06296797841787338, -0.03694791719317436, -0.04812551289796829, -0.06486359983682632, -0.04678943753242493, 0.06017737090587616, -0.11098981648683548, -0.06415434181690216, -0.02447386272251606, -0.04275311157107353, -0.04139328375458717, 0.034286025911569595, -0.02650223858654499, 0.00785092543810606, 0.03831346705555916, 0.024527274072170258, 0.06254971772432327, 0.021796295419335365, -0.08026617020368576, 0.018978802487254143, 0.08421166241168976, 0.02704104222357273, -0.07837945222854614, 0.03331179544329643, -0.05214046686887741, -0.04923572391271591, -0.00050931895384565, -0.040840793401002884, 0.06119111180305481, 0.03826022148132324, -0.0850406140089035, -0.019418351352214813, 0.054552868008613586, 0.02793736942112446, 0.02453763224184513, -0.0601266473531723, 0.011391162872314453, 0.028409678488969803, 0.006272986531257629, 0.004619097802788019, 0.049702923744916916, 0.0060395412147045135, 0.03264930471777916, -0.044570814818143845, 0.017334217205643654, -0.03479545935988426, -0.0058750673197209835, 0.011004546657204628, -2.4600838699484484e-08, -0.0891333520412445, 0.03411609306931496, -0.03289974853396416, 0.024473581463098526, 0.046619124710559845, 0.013434045016765594, 0.034124962985515594, -0.03629076108336449, -0.08518288284540176, -0.014279295690357685, 0.0465233214199543, 0.08350403606891632, -0.066453717648983, -0.023737426847219467, 0.09872221946716309, 0.0948963463306427, -0.01085961889475584, -0.030986392870545387, -0.06843976676464081, -0.011088987812399864, 0.05266587808728218, 0.0537935271859169, -0.031344518065452576, -0.006678094621747732, -0.03278619050979614, 0.02289419434964657, -0.003902063937857747, 0.02036966197192669, -0.053330909460783005, -0.02579832263290882, 0.020183801651000977, 0.08840300142765045, -0.10123811662197113, 0.005366705358028412, -0.0637110248208046, -0.00200255261734128, -0.0769931897521019, 0.007538754492998123, 0.04464992508292198, -0.07039494812488556, -0.001089111901819706, 0.0719265341758728, 0.009170029312372208, -0.012158212251961231, 0.036573268473148346, 0.030250951647758484, 0.005265246611088514, 0.03977387025952339, -0.015194019302725792, -0.054144859313964844, -0.0791688859462738, 0.014261990785598755, 0.0644899383187294, -0.0006008564378134906, 0.03669928014278412, 0.062136754393577576, 0.04635456204414368, 0.03382780775427818, -0.016924062743782997, 0.035784389823675156, 0.17519395053386688, 0.023224757984280586, 0.038216620683670044, -0.01820184476673603]\n",
      "length :  384\n"
     ]
    }
   ],
   "source": [
    "print(embeddings.embed_query(\"Hello World!\"))\n",
    "print('length : ',len(embeddings.embed_query(\"Hello World!\")))"
   ]
  },
  {
   "cell_type": "code",
   "execution_count": 23,
   "metadata": {},
   "outputs": [
    {
     "name": "stdout",
     "output_type": "stream",
     "text": [
      "Requirement already satisfied: pinecone in c:\\users\\adars\\desktop\\ai-projects\\medibot\\lib\\site-packages (6.0.2)\n",
      "Requirement already satisfied: certifi>=2019.11.17 in c:\\users\\adars\\desktop\\ai-projects\\medibot\\lib\\site-packages (from pinecone) (2025.1.31)\n",
      "Requirement already satisfied: pinecone-plugin-interface<0.0.8,>=0.0.7 in c:\\users\\adars\\desktop\\ai-projects\\medibot\\lib\\site-packages (from pinecone) (0.0.7)\n",
      "Requirement already satisfied: python-dateutil>=2.5.3 in c:\\users\\adars\\desktop\\ai-projects\\medibot\\lib\\site-packages (from pinecone) (2.9.0.post0)\n",
      "Requirement already satisfied: typing-extensions>=3.7.4 in c:\\users\\adars\\desktop\\ai-projects\\medibot\\lib\\site-packages (from pinecone) (4.12.2)\n",
      "Requirement already satisfied: urllib3>=1.26.0 in c:\\users\\adars\\desktop\\ai-projects\\medibot\\lib\\site-packages (from pinecone) (2.3.0)\n",
      "Requirement already satisfied: six>=1.5 in c:\\users\\adars\\desktop\\ai-projects\\medibot\\lib\\site-packages (from python-dateutil>=2.5.3->pinecone) (1.17.0)\n",
      "Note: you may need to restart the kernel to use updated packages.\n"
     ]
    }
   ],
   "source": [
    "%pip install pinecone"
   ]
  },
  {
   "cell_type": "code",
   "execution_count": 13,
   "metadata": {},
   "outputs": [
    {
     "data": {
      "text/plain": [
       "True"
      ]
     },
     "execution_count": 13,
     "metadata": {},
     "output_type": "execute_result"
    }
   ],
   "source": [
    "from dotenv import load_dotenv\n",
    "load_dotenv()"
   ]
  },
  {
   "cell_type": "code",
   "execution_count": 14,
   "metadata": {},
   "outputs": [],
   "source": [
    "PINECONE_API_KEY = os.environ.get('PINECONE_API_KEY')\n",
    "GEMINI_API_KEY = os.environ.get('GEMINI_API_KEY')"
   ]
  },
  {
   "cell_type": "code",
   "execution_count": 18,
   "metadata": {},
   "outputs": [
    {
     "data": {
      "text/plain": [
       "{\n",
       "    \"name\": \"medicalbot\",\n",
       "    \"metric\": \"cosine\",\n",
       "    \"host\": \"medicalbot-xu7iu31.svc.aped-4627-b74a.pinecone.io\",\n",
       "    \"spec\": {\n",
       "        \"serverless\": {\n",
       "            \"cloud\": \"aws\",\n",
       "            \"region\": \"us-east-1\"\n",
       "        }\n",
       "    },\n",
       "    \"status\": {\n",
       "        \"ready\": true,\n",
       "        \"state\": \"Ready\"\n",
       "    },\n",
       "    \"vector_type\": \"dense\",\n",
       "    \"dimension\": 384,\n",
       "    \"deletion_protection\": \"disabled\",\n",
       "    \"tags\": null\n",
       "}"
      ]
     },
     "execution_count": 18,
     "metadata": {},
     "output_type": "execute_result"
    }
   ],
   "source": [
    "from pinecone.grpc import PineconeGRPC as Pinecone\n",
    "from pinecone import ServerlessSpec\n",
    "import os\n",
    "\n",
    "pc = Pinecone(api_key=PINECONE_API_KEY)\n",
    "\n",
    "index_name = 'medicalbot'\n",
    "\n",
    "pc.create_index(\n",
    "\n",
    "    name = index_name,\n",
    "    dimension=384,\n",
    "    metric='cosine',\n",
    "    spec=ServerlessSpec(\n",
    "        cloud='aws',\n",
    "        region='us-east-1'\n",
    "    )\n",
    "\n",
    ")"
   ]
  },
  {
   "cell_type": "code",
   "execution_count": 15,
   "metadata": {},
   "outputs": [],
   "source": [
    "import os\n",
    "os.environ['PINECONE_API_KEY'] = PINECONE_API_KEY"
   ]
  },
  {
   "cell_type": "code",
   "execution_count": 16,
   "metadata": {},
   "outputs": [],
   "source": [
    "os.environ['GEMINI_API_KEY'] = GEMINI_API_KEY"
   ]
  },
  {
   "cell_type": "code",
   "execution_count": 19,
   "metadata": {},
   "outputs": [],
   "source": [
    "from langchain_pinecone import PineconeVectorStore\n",
    "\n",
    "docsearch = PineconeVectorStore.from_documents(\n",
    "    documents=text_chunks,\n",
    "    index_name=index_name,\n",
    "    embedding=embeddings,\n",
    ")"
   ]
  },
  {
   "cell_type": "code",
   "execution_count": 20,
   "metadata": {},
   "outputs": [],
   "source": [
    "from langchain_pinecone import PineconeVectorStore\n",
    "\n",
    "docsearch = PineconeVectorStore.from_existing_index(\n",
    "    \n",
    "    index_name=index_name,\n",
    "    embedding=embeddings,\n",
    ")"
   ]
  },
  {
   "cell_type": "code",
   "execution_count": 21,
   "metadata": {},
   "outputs": [],
   "source": [
    "reriever = docsearch.as_retriever(search_type='similarity',search_kwargs={'k':3})"
   ]
  },
  {
   "cell_type": "code",
   "execution_count": 22,
   "metadata": {},
   "outputs": [],
   "source": [
    "retrieved_docs = reriever.invoke('what is acne')"
   ]
  },
  {
   "cell_type": "code",
   "execution_count": 23,
   "metadata": {},
   "outputs": [],
   "source": [
    "import google.generativeai as genai\n",
    "from langchain_google_genai import ChatGoogleGenerativeAI\n",
    "from langchain.chains import create_retrieval_chain\n",
    "from langchain.chains.combine_documents import create_stuff_documents_chain\n",
    "from langchain_core.prompts import ChatPromptTemplate\n",
    "\n",
    "# Set up Gemini API key\n",
    "genai.configure(api_key=GEMINI_API_KEY)\n",
    "\n",
    "# Initialize Gemini LLM\n",
    "llm = ChatGoogleGenerativeAI(model=\"gemini-1.5-pro-latest\", temperature=0.4, max_output_tokens=500,google_api_key=GEMINI_API_KEY)"
   ]
  },
  {
   "cell_type": "code",
   "execution_count": 24,
   "metadata": {},
   "outputs": [],
   "source": [
    "system_prompt = (\n",
    "    \"You are an assistant for question-answering tasks. \"\n",
    "    \"Use the following pieces of retrieved context to answer \"\n",
    "    \"the question. If you don't know the answer, say that you \"\n",
    "    \"don't know. Use three sentences maximum and keep the \"\n",
    "    \"answer concise.\"\n",
    "    \"\\n\\n\"\n",
    "    \"{context}\"\n",
    ")\n",
    "\n",
    "prompt = ChatPromptTemplate.from_messages([\n",
    "    (\"system\", system_prompt),\n",
    "    (\"human\", \"{input}\"),\n",
    "])\n"
   ]
  },
  {
   "cell_type": "code",
   "execution_count": 25,
   "metadata": {},
   "outputs": [],
   "source": [
    "question_answer_chain = create_stuff_documents_chain(llm,prompt)\n",
    "rag_chain = create_retrieval_chain(reriever,question_answer_chain)"
   ]
  },
  {
   "cell_type": "code",
   "execution_count": 82,
   "metadata": {},
   "outputs": [
    {
     "name": "stdout",
     "output_type": "stream",
     "text": [
      "This question cannot be answered from the given context.  The provided text discusses blood counts and their components, not the meaning of \"stats\".  More information is needed to define \"stats\".\n"
     ]
    }
   ],
   "source": [
    "res = rag_chain.invoke({\"input\" : \"what is stats?\"})\n",
    "print(res['answer'])"
   ]
  },
  {
   "cell_type": "code",
   "execution_count": 83,
   "metadata": {},
   "outputs": [
    {
     "name": "stdout",
     "output_type": "stream",
     "text": [
      "Acne, medically known as acne vulgaris, is a common skin disease.  It's characterized by pimples forming on the face, chest, and back due to clogged pores. These pores become blocked with oil, dead skin cells, and bacteria.\n"
     ]
    }
   ],
   "source": [
    "res = rag_chain.invoke({\"input\" : \"what is acne?\"})\n",
    "print(res['answer'])"
   ]
  },
  {
   "cell_type": "code",
   "execution_count": 84,
   "metadata": {},
   "outputs": [],
   "source": [
    "res = rag_chain.invoke({\"input\" : \"what is the probability of a person surviving, sufforing from a blood cancer?\"})\n"
   ]
  },
  {
   "cell_type": "code",
   "execution_count": 85,
   "metadata": {},
   "outputs": [
    {
     "name": "stdout",
     "output_type": "stream",
     "text": [
      "The provided text discusses aplastic anemia, a type of blood cancer, with survival rates varying depending on treatment.  Patients receiving blood transfusions have a 20% chance of surviving 18 months to two years, while bone marrow transplants offer a 60-90% cure rate.  The text doesn't offer survival rates for other blood cancers.\n"
     ]
    }
   ],
   "source": [
    "print(res['answer'])"
   ]
  },
  {
   "cell_type": "code",
   "execution_count": 26,
   "metadata": {},
   "outputs": [
    {
     "name": "stdout",
     "output_type": "stream",
     "text": [
      "Stress is not a myth, but a physiological response involving the release of stress hormones.  The body can sometimes trigger this response even when there's no actual external danger.  This can lead to negative biochemical side effects if the stress response is repeatedly activated without physical release.\n"
     ]
    }
   ],
   "source": [
    "res = rag_chain.invoke({\"input\" : \"is stress a myth?\"})\n",
    "print(res['answer'])"
   ]
  },
  {
   "cell_type": "code",
   "execution_count": null,
   "metadata": {},
   "outputs": [],
   "source": [
    "res = rag_chain.invoke({\"input\" : \"is stress a myth?\"})\n",
    "print(res['answer'])"
   ]
  },
  {
   "cell_type": "code",
   "execution_count": 27,
   "metadata": {},
   "outputs": [
    {
     "name": "stdout",
     "output_type": "stream",
     "text": [
      "This question cannot be answered from the given context. The provided text discusses Aston-Patterning, a system of movement education and bodywork, and aerospace medicine topics.  It does not contain information about gradient descent.\n"
     ]
    }
   ],
   "source": [
    "res = rag_chain.invoke({\"input\" : \"what is gradient descent?\"})\n",
    "print(res['answer'])"
   ]
  },
  {
   "cell_type": "code",
   "execution_count": null,
   "metadata": {},
   "outputs": [],
   "source": []
  }
 ],
 "metadata": {
  "kernelspec": {
   "display_name": "medibot",
   "language": "python",
   "name": "python3"
  },
  "language_info": {
   "codemirror_mode": {
    "name": "ipython",
    "version": 3
   },
   "file_extension": ".py",
   "mimetype": "text/x-python",
   "name": "python",
   "nbconvert_exporter": "python",
   "pygments_lexer": "ipython3",
   "version": "3.10.11"
  }
 },
 "nbformat": 4,
 "nbformat_minor": 2
}
